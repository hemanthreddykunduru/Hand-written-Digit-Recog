{
  "nbformat": 4,
  "nbformat_minor": 0,
  "metadata": {
    "colab": {
      "provenance": [],
      "collapsed_sections": [],
      "private_outputs": true
    },
    "kernelspec": {
      "name": "python3",
      "display_name": "Python 3"
    },
    "language_info": {
      "name": "python"
    },
    "accelerator": "GPU",
    "gpuClass": "standard"
  },
  "cells": [
    {
      "cell_type": "markdown",
      "source": [
        "# **Edditing** **of** **input** **picture**"
      ],
      "metadata": {
        "id": "hfwFIn4Nr2ng"
      }
    },
    {
      "cell_type": "code",
      "execution_count": null,
      "metadata": {
        "id": "ei9WkrDrPmqf"
      },
      "outputs": [],
      "source": [
        "import cv2\n",
        "import matplotlib.pyplot as plt\n",
        "img = cv2.imread(\"/content/recog_imgs/7.png\")"
      ]
    },
    {
      "cell_type": "code",
      "source": [
        "plt.imshow(img)"
      ],
      "metadata": {
        "id": "NCdnL7THqAlp"
      },
      "execution_count": null,
      "outputs": []
    },
    {
      "cell_type": "code",
      "source": [
        "img.shape#original shape of input image 3-No.of color codes"
      ],
      "metadata": {
        "id": "vdr3x4O5p-Hw"
      },
      "execution_count": null,
      "outputs": []
    },
    {
      "cell_type": "code",
      "source": [
        "gray=cv2.cvtColor(img,cv2.COLOR_BGR2GRAY)#making of given img into B/W img "
      ],
      "metadata": {
        "id": "o0Jku7C_gwlL"
      },
      "execution_count": null,
      "outputs": []
    },
    {
      "cell_type": "code",
      "source": [
        "gray.shape#shape  of the B/W img "
      ],
      "metadata": {
        "id": "9lmsL_NeqRc1"
      },
      "execution_count": null,
      "outputs": []
    },
    {
      "cell_type": "code",
      "source": [
        "plt.imshow(gray)"
      ],
      "metadata": {
        "id": "20JYR_DsqXpC"
      },
      "execution_count": null,
      "outputs": []
    },
    {
      "cell_type": "code",
      "source": [
        "resized=cv2.resize(gray,(28,28),interpolation=cv2.INTER_AREA)"
      ],
      "metadata": {
        "id": "Av75IRLJq-Gi"
      },
      "execution_count": null,
      "outputs": []
    },
    {
      "cell_type": "code",
      "source": [
        "resized.shape # making given pic into 20X20 size"
      ],
      "metadata": {
        "id": "As_4t047rMA5"
      },
      "execution_count": null,
      "outputs": []
    },
    {
      "cell_type": "markdown",
      "source": [],
      "metadata": {
        "id": "_ZC7izQhsidk"
      }
    },
    {
      "cell_type": "markdown",
      "source": [
        "## **Linking the pic to the digit recog model**"
      ],
      "metadata": {
        "id": "qaYWdn4Tsjqv"
      }
    },
    {
      "cell_type": "code",
      "source": [
        "import tensorflow as tf\n",
        "from tensorflow import keras\n",
        "import numpy as np"
      ],
      "metadata": {
        "id": "52RFQChVtWQd"
      },
      "execution_count": null,
      "outputs": []
    },
    {
      "cell_type": "code",
      "source": [
        "newimg=tf.keras.utils.normalize(resized,axis = 1)\n",
        "newimg=np.array(newimg).reshape(-1,28,28,1)"
      ],
      "metadata": {
        "id": "WvpxpVN3srvn"
      },
      "execution_count": null,
      "outputs": []
    },
    {
      "cell_type": "code",
      "source": [
        "newimg.shape #making the pic as the coding applicapable one"
      ],
      "metadata": {
        "id": "XS3Qn0OMuBd2"
      },
      "execution_count": null,
      "outputs": []
    },
    {
      "cell_type": "markdown",
      "source": [
        "# **Developing of model**"
      ],
      "metadata": {
        "id": "HjfjmcYHu4S2"
      }
    },
    {
      "cell_type": "code",
      "source": [
        "import tensorflow as tf\n",
        "import numpy as np\n",
        "mnist=tf.keras.datasets.mnist\n",
        "(x_train,y_train),(x_test,y_test)=mnist.load_data()"
      ],
      "metadata": {
        "id": "rNSy7vNpvFnP"
      },
      "execution_count": null,
      "outputs": []
    },
    {
      "cell_type": "code",
      "source": [
        "image_size=28\n",
        "x_train = x_train.reshape(60000, 28, 28)\n",
        "x_test = x_test.reshape(10000, 28, 28)\n",
        "x_train = x_train.astype('float32')\n",
        "x_test = x_test.astype('float32')\n",
        "\n",
        "#normalize in [0,1]\n",
        "x_train /= 255\n",
        "x_test /= 255"
      ],
      "metadata": {
        "id": "URJXdwt-vGWk"
      },
      "execution_count": null,
      "outputs": []
    },
    {
      "cell_type": "code",
      "source": [
        "import numpy as np\n",
        "img_size=28\n",
        "x_train=np.array(x_train).reshape(-1,img_size,img_size,1)\n",
        "x_test=np.array(x_test).reshape(-1,img_size,img_size,1)"
      ],
      "metadata": {
        "id": "pnTx22tXvIue"
      },
      "execution_count": null,
      "outputs": []
    },
    {
      "cell_type": "code",
      "source": [
        "import tensorflow\n",
        "\n",
        "model= tensorflow.keras.models.Sequential()\n",
        "\n",
        "model.add(tensorflow.keras.layers.Conv2D(64,(3,3),input_shape=x_train.shape[1:]))\n",
        "model.add(tensorflow.keras.layers.Activation(\"relu\"))\n",
        "model.add(tensorflow.keras.layers.MaxPooling2D(pool_size=(2,2)))\n",
        "\n",
        "model.add(tensorflow.keras.layers.Conv2D(64,(3,3)))\n",
        "model.add(tensorflow.keras.layers.Activation(\"relu\"))\n",
        "model.add(tensorflow.keras.layers.MaxPooling2D(pool_size=(2,2)))\n",
        "\n",
        "model.add(tensorflow.keras.layers.Conv2D(64,(3,3)))\n",
        "model.add(tensorflow.keras.layers.Activation(\"relu\"))\n",
        "model.add(tensorflow.keras.layers.MaxPooling2D(pool_size=(2,2)))\n",
        "\n",
        "model.add(tensorflow.keras.layers.Flatten())\n",
        "model.add(tensorflow.keras.layers.Dense(64))\n",
        "model.add(tensorflow.keras.layers.Activation(\"relu\"))\n",
        "\n",
        "model.add(tensorflow.keras.layers.Dense(32))\n",
        "model.add(tensorflow.keras.layers.Activation(\"relu\"))\n",
        "\n",
        "model.add(tensorflow.keras.layers.Dense(10))\n",
        "model.add(tensorflow.keras.layers.Activation(\"softmax\"))"
      ],
      "metadata": {
        "id": "EfR2ArV2vRDS"
      },
      "execution_count": null,
      "outputs": []
    },
    {
      "cell_type": "code",
      "source": [
        "model.summary()"
      ],
      "metadata": {
        "id": "yO8djxR0vTpM"
      },
      "execution_count": null,
      "outputs": []
    },
    {
      "cell_type": "code",
      "source": [
        "model.compile(loss=\"sparse_categorical_crossentropy\",optimizer=\"adam\",metrics=['accuracy'])\n",
        "model.fit(x_train,y_train,epochs=5, validation_split=0.3)"
      ],
      "metadata": {
        "id": "t8FzRp6MvVZY"
      },
      "execution_count": null,
      "outputs": []
    },
    {
      "cell_type": "code",
      "source": [
        "test_loss,test_acc=model.evaluate(x_test,y_test)\n",
        "print(\"loss: \",test_loss)\n",
        "print(\"accuracy: \",test_acc)"
      ],
      "metadata": {
        "id": "21D0nRj0yEIW"
      },
      "execution_count": null,
      "outputs": []
    },
    {
      "cell_type": "markdown",
      "source": [
        "# OUTPUT❤"
      ],
      "metadata": {
        "id": "NRDWH1bqxS3y"
      }
    },
    {
      "cell_type": "code",
      "source": [
        "predictions=model.predict([newimg])"
      ],
      "metadata": {
        "id": "V6vZZhGSxhBN"
      },
      "execution_count": null,
      "outputs": []
    },
    {
      "cell_type": "code",
      "source": [
        "print(np.argmax(predictions))"
      ],
      "metadata": {
        "id": "NmQw1HM5xj6C"
      },
      "execution_count": null,
      "outputs": []
    }
  ]
}